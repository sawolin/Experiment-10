{
 "cells": [
  {
   "cell_type": "code",
   "execution_count": 34,
   "metadata": {
    "collapsed": false
   },
   "outputs": [
    {
     "name": "stdout",
     "output_type": "stream",
     "text": [
      "Populating the interactive namespace from numpy and matplotlib\n"
     ]
    }
   ],
   "source": [
    "%pylab inline --no-import-all"
   ]
  },
  {
   "cell_type": "code",
   "execution_count": 35,
   "metadata": {
    "collapsed": false
   },
   "outputs": [
    {
     "name": "stdout",
     "output_type": "stream",
     "text": [
      "[ 0.0012  0.0014  0.0016  0.0018  0.002   0.0022  0.0024  0.0026]\n",
      "[ 1.177  0.635  0.425  0.342  0.313  0.298  0.293  0.293]\n"
     ]
    }
   ],
   "source": [
    "t_data, VL_data= np.loadtxt(\"data_VL.txt\", skiprows=0, unpack=True)\n",
    "print t_data\n",
    "print VL_data"
   ]
  },
  {
   "cell_type": "code",
   "execution_count": 36,
   "metadata": {
    "collapsed": true
   },
   "outputs": [],
   "source": [
    "def func(c,a,b):\n",
    "    return a + b*c"
   ]
  },
  {
   "cell_type": "code",
   "execution_count": 37,
   "metadata": {
    "collapsed": false
   },
   "outputs": [
    {
     "name": "stdout",
     "output_type": "stream",
     "text": [
      "[ 0.16296883 -0.45413028 -0.85566611 -1.07294454 -1.16155209 -1.21066179\n",
      " -1.22758267 -1.22758267]\n"
     ]
    }
   ],
   "source": [
    "VL1_data=np.log(np.array(VL_data))\n",
    "print VL1_data"
   ]
  },
  {
   "cell_type": "code",
   "execution_count": 38,
   "metadata": {
    "collapsed": false
   },
   "outputs": [],
   "source": [
    "from pylab import * \n",
    "from scipy.optimize import curve_fit\n",
    "a_fit,cov=curve_fit(func,t_data,VL1_data)"
   ]
  },
  {
   "cell_type": "code",
   "execution_count": 39,
   "metadata": {
    "collapsed": true
   },
   "outputs": [],
   "source": [
    "slope = a_fit[1]\n",
    "inter = a_fit[0]\n",
    "d_slope = sqrt(cov[1][1])\n",
    "d_inter = sqrt(cov[0][0])"
   ]
  },
  {
   "cell_type": "code",
   "execution_count": 52,
   "metadata": {
    "collapsed": false
   },
   "outputs": [
    {
     "name": "stdout",
     "output_type": "stream",
     "text": [
      "The slope = -878.257, with uncertainty 209.249\n",
      "The intercept = 0.787794, with uncertainty 0.408974\n",
      "The time constant = 0.00113862, with uncertainty 0.000271282\n",
      "The voltage V = 2.19854, with  uncertainty 0.899146\n"
     ]
    }
   ],
   "source": [
    "print('The slope = %g, with uncertainty %g' % (slope,d_slope))\n",
    "print('The intercept = %g, with uncertainty %g' % (inter,d_inter))\n",
    "print('The time constant = %g, with uncertainty %g' % ((-1*(1/slope)), (d_slope/slope)*(1/slope)))\n",
    "print('The voltage V = %g, with  uncertainty %g'% ((np.exp(inter)), (np.exp(inter))*d_inter))"
   ]
  },
  {
   "cell_type": "code",
   "execution_count": 19,
   "metadata": {
    "collapsed": false
   },
   "outputs": [
    {
     "data": {
      "text/plain": [
       "<matplotlib.legend.Legend at 0x1b069160>"
      ]
     },
     "execution_count": 19,
     "metadata": {},
     "output_type": "execute_result"
    },
    {
     "data": {
      "image/png": "[encoded data removed]",
      "text/plain": [
       "<matplotlib.figure.Figure at 0x1ad81b00>"
      ]
     },
     "metadata": {},
     "output_type": "display_data"
    }
   ],
   "source": [
    "\n",
    "from pylab import  *\n",
    "scatter(t_data,VL1_data,s=0.05, label='Data', alpha=1, color='r')\n",
    "VL1_fit = inter + slope*t_data\n",
    "plot(t_data,VL1_fit,label='Fit', alpha=0.5)\n",
    "xlabel('Time (s)')\n",
    "ylabel('Voltage in Inductor (V)')\n",
    "title('Time vs. Voltage in Inductor')\n",
    "legend()"
   ]
  },
  {
   "cell_type": "code",
   "execution_count": 27,
   "metadata": {
    "collapsed": false
   },
   "outputs": [
    {
     "name": "stdout",
     "output_type": "stream",
     "text": [
      "[ 0.001   0.0012  0.0014  0.0016  0.0018  0.002   0.0022  0.0024]\n",
      "[ 1.362  1.099  0.918  0.786  0.684  0.605  0.547  0.498]\n"
     ]
    }
   ],
   "source": [
    "t2_data, VL2_data= np.loadtxt(\"data_VL2.txt\", skiprows=0, unpack=True)\n",
    "print t2_data\n",
    "print VL2_data"
   ]
  },
  {
   "cell_type": "code",
   "execution_count": 28,
   "metadata": {
    "collapsed": true
   },
   "outputs": [],
   "source": [
    "def func(c2,a2,b2):\n",
    "    return a2 + b2*c2"
   ]
  },
  {
   "cell_type": "code",
   "execution_count": 29,
   "metadata": {
    "collapsed": false
   },
   "outputs": [
    {
     "name": "stdout",
     "output_type": "stream",
     "text": [
      "[ 0.30895421  0.09440068 -0.08555789 -0.24079849 -0.37979736 -0.50252682\n",
      " -0.60330648 -0.6971552 ]\n"
     ]
    }
   ],
   "source": [
    "VL21_data=np.log(np.array(VL2_data))\n",
    "print VL21_data"
   ]
  },
  {
   "cell_type": "code",
   "execution_count": 31,
   "metadata": {
    "collapsed": true
   },
   "outputs": [],
   "source": [
    "from pylab import * \n",
    "from scipy.optimize import curve_fit\n",
    "a2_fit,cov=curve_fit(func,t2_data,VL21_data)"
   ]
  },
  {
   "cell_type": "code",
   "execution_count": 33,
   "metadata": {
    "collapsed": true
   },
   "outputs": [],
   "source": [
    "slope2 = a2_fit[1]\n",
    "inter2 = a2_fit[0]\n",
    "d_slope2 = sqrt(cov[1][1])\n",
    "d_inter2 = sqrt(cov[0][0])"
   ]
  },
  {
   "cell_type": "code",
   "execution_count": 67,
   "metadata": {
    "collapsed": false
   },
   "outputs": [
    {
     "name": "stdout",
     "output_type": "stream",
     "text": [
      "The slope = -709.596, with uncertainty 40.1329\n",
      "The intercept = 0.943089, with uncertainty 0.0706612\n",
      "The time constant = 0.00140925, with uncertainty 7.97036e-05\n",
      "The voltage V = 2.5679, with  uncertainty 0.181451\n",
      "The new inductance L= 0.0559004, with uncertainty 4.45546e-06\n"
     ]
    }
   ],
   "source": [
    "print('The slope = %g, with uncertainty %g' % (slope2,d_slope2))\n",
    "print('The intercept = %g, with uncertainty %g' % (inter2,d_inter2))\n",
    "print('The time constant = %g, with uncertainty %g' % ((-1*(1/slope2)), (d_slope2/slope2)*(1/slope2)))\n",
    "print('The voltage V = %g, with  uncertainty %g'% ((np.exp(inter2)), (np.exp(inter2))*d_inter2))\n",
    "print('The new inductance L= %g, with uncertainty %g' % (((-1*(1/slope2))*(33+(2/0.3))), ((-1*(1/slope2))*(33+(2/0.3)))*((((d_slope2/slope2)*(1/slope2))+(1/33)))))"
   ]
  },
  {
   "cell_type": "code",
   "execution_count": 54,
   "metadata": {
    "collapsed": false
   },
   "outputs": [
    {
     "data": {
      "text/plain": [
       "<matplotlib.legend.Legend at 0x1b3094e0>"
      ]
     },
     "execution_count": 54,
     "metadata": {},
     "output_type": "execute_result"
    },
    {
     "data": {
      "image/png": "[encoded data removed]",
      "text/plain": [
       "<matplotlib.figure.Figure at 0x1ada72b0>"
      ]
     },
     "metadata": {},
     "output_type": "display_data"
    }
   ],
   "source": [
    "from pylab import  *\n",
    "scatter(t2_data,VL21_data,s=0.05, label='Data', alpha=1, color='r')\n",
    "VL21_fit = inter2 + slope2*t2_data\n",
    "plot(t2_data,VL21_fit,label='Fit', alpha=0.5)\n",
    "xlabel('Time (s)')\n",
    "ylabel('Voltage in Inductor with Iron Rod (V)')\n",
    "title('Time vs. Voltage in Inductor with Iron Rod')\n",
    "legend()"
   ]
  },
  {
   "cell_type": "code",
   "execution_count": null,
   "metadata": {
    "collapsed": true
   },
   "outputs": [],
   "source": []
  }
 ],
 "metadata": {
  "kernelspec": {
   "display_name": "Python 2",
   "language": "python",
   "name": "python2"
  },
  "language_info": {
   "codemirror_mode": {
    "name": "ipython",
    "version": 2
   },
   "file_extension": ".py",
   "mimetype": "text/x-python",
   "name": "python",
   "nbconvert_exporter": "python",
   "pygments_lexer": "ipython2",
   "version": "2.7.11"
  }
 },
 "nbformat": 4,
 "nbformat_minor": 0
}
